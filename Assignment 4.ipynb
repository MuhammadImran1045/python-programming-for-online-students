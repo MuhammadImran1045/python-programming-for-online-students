{
 "cells": [
  {
   "cell_type": "code",
   "execution_count": 1,
   "metadata": {},
   "outputs": [
    {
     "name": "stdout",
     "output_type": "stream",
     "text": [
      "First Name : Mohammad\n",
      "Last Name : imran\n",
      "Age : 21\n",
      "City : karachi\n",
      "School RPS\n",
      "Percentage 63%\n",
      "\n",
      " [{'first_name': 'Mohammad', 'last_name': 'imran', 'age': 21, 'city': 'karachi'}, {'school': 'RPS', 'percentage': '63%'}] \n",
      "\n",
      "\n",
      " [{'first_name': 'Mohammad', 'last_name': 'imran', 'age': 21, 'city': 'karachi'}]\n",
      "School : RPS\n",
      "Percentage : 63%\n",
      "\n",
      "***** UPDATED INFORMATION *****\n",
      "\n",
      "\n",
      "First Name : Mohammad\n",
      "Last Name : imran\n",
      "Age : 21\n",
      "City : karachi\n",
      "college : RPS\n",
      "Percentage : 63% \n",
      "\n"
     ]
    }
   ],
   "source": [
    "#Question No. 1\n",
    "information=[\n",
    "    {\n",
    "        \"first_name\":\"Mohammad\",\n",
    "        \"last_name\":\"imran\",\n",
    "        \"age\":21,\n",
    "        \"city\":\"karachi\",\n",
    "    }\n",
    "]\n",
    "print(\"First Name :\",information[0][\"first_name\"])\n",
    "print(\"Last Name :\",information[0][\"last_name\"])\n",
    "print(\"Age :\",information[0][\"age\"])\n",
    "print(\"City :\",information[0][\"city\"])\n",
    "education={\n",
    "    \"school\":\"RPS\",\n",
    "    \"percentage\":\"63%\",\n",
    "}\n",
    "information.append(education)\n",
    "print(\"School\",information[1][\"school\"])\n",
    "print(\"Percentage\",information[1][\"percentage\"])\n",
    "print(\"\\n\",information,\"\\n\")\n",
    "del(information[1])\n",
    "print(\"\\n\",information)\n",
    "education={\n",
    "    \"school\":\"RPS\",\n",
    "    \"percentage\":\"63%\",\n",
    "}\n",
    "information.append(education)\n",
    "print(\"School :\",information[1][\"school\"])\n",
    "print(\"Percentage :\",information[1][\"percentage\"])\n",
    "education={\n",
    "    \"college\":\"RPS&C\",\n",
    "    \"percentage\":\"65%\",\n",
    "}\n",
    "information.append(education)\n",
    "print(\"\\n\"+\"***** UPDATED INFORMATION *****\"+\"\\n\")\n",
    "print(\"\\n\"+\"First Name :\",information[0][\"first_name\"])\n",
    "print(\"Last Name :\",information[0][\"last_name\"])\n",
    "print(\"Age :\",information[0][\"age\"])\n",
    "print(\"City :\",information[0][\"city\"])\n",
    "print(\"college :\",information[1][\"school\"])\n",
    "print(\"Percentage :\",information[1][\"percentage\"],\"\\n\")"
   ]
  },
  {
   "cell_type": "code",
   "execution_count": 2,
   "metadata": {},
   "outputs": [
    {
     "name": "stdout",
     "output_type": "stream",
     "text": [
      "***** FIRST CITY INFORMATION *****\n",
      "\n",
      "City Name : Islamabad\n",
      "Facts of City : Second most beuatiful capital city of world\n",
      "Population of City : 1.015 Million \n",
      "\n",
      "***** SECOND CITY INFORMATION *****\n",
      "\n",
      "City Name : London\n",
      "Facts of City : The Romans were the first to make London their home\n",
      "Population of City : 8.9 million \n",
      "\n",
      "***** THIRD CITY INFORMATION *****\n",
      "\n",
      "City Name : Paris\n",
      "Facts of City : Capital city of France and known abouts its fashion inustry\n",
      "Population of City : 2.141 million \n",
      "\n"
     ]
    }
   ],
   "source": [
    "#Question No. 2\n",
    "information={\n",
    "   0: {\n",
    "       \"city\":\"Islamabad\",\n",
    "       \"fact\":\"Second most beuatiful capital city of world\",\n",
    "       \"population\":\"1.015 Million\",\n",
    "      },\n",
    "   1: {\n",
    "       \"city\":\"London\",\n",
    "       \"fact\":\"The Romans were the first to make London their home\",\n",
    "       \"population\":\"8.9 million\",\n",
    "      },\n",
    "   2: {\n",
    "       \"city\":\"Paris\",\n",
    "       \"fact\":\"Capital city of France and known abouts its fashion inustry\",\n",
    "       \"population\":\"2.141 million\",\n",
    "   }\n",
    "}\n",
    "print(\"***** FIRST CITY INFORMATION *****\"+\"\\n\")\n",
    "print(\"City Name :\",information[0][\"city\"])\n",
    "print(\"Facts of City :\",information[0][\"fact\"])\n",
    "print(\"Population of City :\",information[0][\"population\"],\"\\n\")\n",
    "\n",
    "print(\"***** SECOND CITY INFORMATION *****\"+\"\\n\")\n",
    "print(\"City Name :\",information[1][\"city\"])\n",
    "print(\"Facts of City :\",information[1][\"fact\"])\n",
    "print(\"Population of City :\",information[1][\"population\"],\"\\n\")\n",
    "\n",
    "print(\"***** THIRD CITY INFORMATION *****\"+\"\\n\")\n",
    "print(\"City Name :\",information[2][\"city\"])\n",
    "print(\"Facts of City :\",information[2][\"fact\"])\n",
    "print(\"Population of City :\",information[2][\"population\"],\"\\n\")"
   ]
  },
  {
   "cell_type": "code",
   "execution_count": null,
   "metadata": {},
   "outputs": [
    {
     "name": "stdout",
     "output_type": "stream",
     "text": [
      "When Finshed Enter 'quit'\n",
      "How old are you :33\n",
      "not free\n"
     ]
    }
   ],
   "source": [
    "#Question No. 4\n",
    "q=\"How old are you :\"\n",
    "print(\"When Finshed Enter 'quit'\")\n",
    "for a in q:\n",
    "    age=input(q)\n",
    "    if age=='quit':\n",
    "        break\n",
    "    age=int(age)\n",
    "    if age < 3:\n",
    "        print(\"free\")\n",
    "    else:\n",
    "        print(\"not free\")"
   ]
  },
  {
   "cell_type": "code",
   "execution_count": null,
   "metadata": {},
   "outputs": [],
   "source": [
    "#Question No. 5\n",
    "favourite_book(title=\"One of my favorite books is Alice in Wonderland\")\n",
    "def favourite_book(title):\n",
    "    print(title)"
   ]
  },
  {
   "cell_type": "code",
   "execution_count": null,
   "metadata": {},
   "outputs": [],
   "source": [
    "#Question No. 6\n",
    "import random\n",
    "number=random.randrange(1,30)\n",
    "guess=(input(\"Guess a Number Between 1 to 30 : \"))\n",
    "g=int(guess)\n",
    "for a in guess:\n",
    "    if g<number:\n",
    "        print(\"You need to guess Higher, Try Again !\")\n",
    "        guess=(input(\"Guess a Number Between 1 to 30 : \"))\n",
    "    else:\n",
    "        print(\"You need to guess Lower, Try Again !\")\n",
    "        guess=(input(\"Guess a Number Between 1 to 30 : \"))\n",
    "        \n",
    "print(\"You Guessed the Number Correctly !\")"
   ]
  },
  {
   "cell_type": "code",
   "execution_count": null,
   "metadata": {},
   "outputs": [],
   "source": []
  },
  {
   "cell_type": "code",
   "execution_count": null,
   "metadata": {},
   "outputs": [],
   "source": []
  },
  {
   "cell_type": "code",
   "execution_count": null,
   "metadata": {},
   "outputs": [],
   "source": []
  }
 ],
 "metadata": {
  "kernelspec": {
   "display_name": "Python 3",
   "language": "python",
   "name": "python3"
  },
  "language_info": {
   "codemirror_mode": {
    "name": "ipython",
    "version": 3
   },
   "file_extension": ".py",
   "mimetype": "text/x-python",
   "name": "python",
   "nbconvert_exporter": "python",
   "pygments_lexer": "ipython3",
   "version": "3.7.4"
  }
 },
 "nbformat": 4,
 "nbformat_minor": 2
}
