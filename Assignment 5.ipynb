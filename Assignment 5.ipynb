{
 "cells": [
  {
   "cell_type": "code",
   "execution_count": 9,
   "metadata": {},
   "outputs": [
    {
     "name": "stdout",
     "output_type": "stream",
     "text": [
      "Enter Number here : 3\n",
      "____________________________\n",
      "You Enter 3!\n",
      "Answer= 6\n",
      "____________________________\n"
     ]
    }
   ],
   "source": [
    "#Question No.1\n",
    "def factorial(n):\n",
    "    if n==0:\n",
    "        return 1\n",
    "    else:\n",
    "        fac=n*factorial(n-1)\n",
    "        return fac\n",
    "n=int(input(\"Enter Number here : \"))\n",
    "print(\"____________________________\")\n",
    "print(\"You Enter \"+str(n)+\"!\")\n",
    "fac=factorial(n)\n",
    "print(\"Answer=\",fac)\n",
    "print(\"____________________________\")"
   ]
  },
  {
   "cell_type": "code",
   "execution_count": 10,
   "metadata": {},
   "outputs": [
    {
     "name": "stdout",
     "output_type": "stream",
     "text": [
      "Enter String:Imran\n",
      "The String You Write : Imran\n",
      "Upper Case Characters in Strings 1\n",
      "Lower Case Characters in Strings 4\n"
     ]
    }
   ],
   "source": [
    "#Question No.2\n",
    "def string(s):\n",
    "    a={\"upper_case\":0,\"lower_case\":0}\n",
    "    for c in s:\n",
    "        if c.isupper():\n",
    "            a[\"upper_case\"]+=1\n",
    "        elif c.islower():\n",
    "            a[\"lower_case\"]+=1\n",
    "        else:\n",
    "            pass\n",
    "    print(\"The String You Write :\",s)\n",
    "    print(\"Upper Case Characters in Strings\",a[\"upper_case\"])\n",
    "    print(\"Lower Case Characters in Strings\",a[\"lower_case\"])\n",
    "s=input(\"Enter String:\")\n",
    "string(s)"
   ]
  },
  {
   "cell_type": "code",
   "execution_count": 11,
   "metadata": {},
   "outputs": [
    {
     "name": "stdout",
     "output_type": "stream",
     "text": [
      "Enter How Many You Randomly Enter Number in a list :3\n",
      "Enter List :2\n",
      "Enter List :3\n",
      "Enter List :4\n",
      "Even Numbers in a List: [2, 4]\n"
     ]
    }
   ],
   "source": [
    "#Question No.3\n",
    "def EvenOdd(n):\n",
    "    num=[]\n",
    "    for a in n:\n",
    "        if a%2==0:\n",
    "            num.append(a)\n",
    "    return num\n",
    "n=[]\n",
    "b=int(input(\"Enter How Many You Randomly Enter Number in a list :\"))\n",
    "for i in range(0,b):\n",
    "    c=int(input(\"Enter List :\"))\n",
    "    n.append(c)\n",
    "print(\"Even Numbers in a List:\",EvenOdd(n))"
   ]
  },
  {
   "cell_type": "code",
   "execution_count": 12,
   "metadata": {},
   "outputs": [
    {
     "name": "stdout",
     "output_type": "stream",
     "text": [
      "Enter Palidrome:jacket\n",
      "False\n"
     ]
    }
   ],
   "source": [
    "#Question No. 4\n",
    "def palidrome(s):\n",
    "    left_position=0\n",
    "    right_position=len(s)-1\n",
    "    while right_position>=left_position:\n",
    "        if not(s[left_position]==s[right_position]):\n",
    "            return False\n",
    "        left_position+=1\n",
    "        right_position-=1\n",
    "    return True\n",
    "s=input(\"Enter Palidrome:\")\n",
    "print(palidrome(s))"
   ]
  },
  {
   "cell_type": "code",
   "execution_count": 13,
   "metadata": {},
   "outputs": [
    {
     "name": "stdout",
     "output_type": "stream",
     "text": [
      "Enter Number:2\n",
      "True\n"
     ]
    }
   ],
   "source": [
    "#Question No. 5\n",
    "def prime(n):\n",
    "    if n==1:\n",
    "        return False\n",
    "    elif n==2:\n",
    "        return True\n",
    "    else:\n",
    "        if ((n%2)==0):\n",
    "            return False\n",
    "        return True\n",
    "n=int(input(\"Enter Number:\"))\n",
    "print(prime(n))"
   ]
  },
  {
   "cell_type": "code",
   "execution_count": null,
   "metadata": {},
   "outputs": [
    {
     "name": "stdout",
     "output_type": "stream",
     "text": [
      "\n",
      "________________\n",
      " Main Menu \n",
      "________________\n",
      "\n",
      "1. Add Items\n",
      "2. View Items\n",
      "3. Delete Items\n",
      "4. EXIT\n",
      "Enter Command :1\n",
      "Command Accepted\n",
      "\n",
      "\n",
      "________________\n",
      " Add Items \n",
      "________________\n",
      "\n",
      "Item #1. jogging\n",
      "Item #1 - Successfully Added\n",
      "\n",
      "________________\n",
      " Main Menu \n",
      "________________\n",
      "\n",
      "1. Add Items\n",
      "2. View Items\n",
      "3. Delete Items\n",
      "4. EXIT\n",
      "Enter Command :1\n",
      "Command Accepted\n",
      "\n",
      "\n",
      "________________\n",
      " Add Items \n",
      "________________\n",
      "\n",
      "Item #2. 1\n",
      "Item #2 - Successfully Added\n",
      "\n",
      "________________\n",
      " Main Menu \n",
      "________________\n",
      "\n",
      "1. Add Items\n",
      "2. View Items\n",
      "3. Delete Items\n",
      "4. EXIT\n",
      "Enter Command :launch\n",
      "Invalid Command,Try Valid Command\n",
      "\n",
      "\n",
      "________________\n",
      " Main Menu \n",
      "________________\n",
      "\n",
      "1. Add Items\n",
      "2. View Items\n",
      "3. Delete Items\n",
      "4. EXIT\n",
      "Enter Command :1\n",
      "Command Accepted\n",
      "\n",
      "\n",
      "________________\n",
      " Add Items \n",
      "________________\n",
      "\n",
      "Item #3. launch\n",
      "Item #3 - Successfully Added\n",
      "\n",
      "________________\n",
      " Main Menu \n",
      "________________\n",
      "\n",
      "1. Add Items\n",
      "2. View Items\n",
      "3. Delete Items\n",
      "4. EXIT\n"
     ]
    }
   ],
   "source": [
    "#Question No. 6\n",
    "def isInteger(userinput):\n",
    "    try:\n",
    "        int(userinput)\n",
    "        return True\n",
    "    except ValueError:\n",
    "        return False\n",
    "\n",
    "    \n",
    "def menuMenu(menu):\n",
    "    print(\"\\n________________\\n Main Menu \\n________________\\n\")\n",
    "    for menuKey,menuName in menu.items():\n",
    "        print(\"{}. {}\".format(menuKey,menuName))\n",
    "    userCommand=input(\"Enter Command :\")\n",
    "    return userCommand\n",
    "\n",
    "def addTask(taskDictionary):\n",
    "    print(\"\\n________________\\n Add Items \\n________________\\n\")\n",
    "    taskIndex=len(taskDictionary)+1\n",
    "    taskName=input(\"Item #{}. \".format(taskIndex))\n",
    "    taskDictionary.update({taskIndex : taskName})\n",
    "    print(\"Item #{} - Successfully Added\".format(taskIndex))\n",
    "    \n",
    "def viewTask(taskDictionary):\n",
    "    print(\"\\n________________\\n Viewing Items \\n________________\\n\")\n",
    "    if len(taskDictionary) > 0:\n",
    "        for taskIndex,taskname in taskDictionary.items():\n",
    "            print(\"Item #{}. - {}\".format(taskIndex,taskname))\n",
    "    else:\n",
    "        print(\"No Item Found\\n\")\n",
    "        \n",
    "def deletingTask(taskDictionary):\n",
    "    print(\"\\n________________\\n Deleting Items \\n________________\\n\")\n",
    "    if len(taskDictionary) > 0:\n",
    "        for taskIndex,taskname in taskDictionary.items():\n",
    "            print(\"Item #{}. - {}\".format(taskIndex,taskname))\n",
    "        taskIndex=int(input(\"Enter Item Index eg. 1:\"))\n",
    "        if taskIndex in taskDictionary.keys():\n",
    "            taskDictionary.pop(taskIndex)\n",
    "            print(\"Item #{}. - Successfullt Deleted\".format(taskIndex))\n",
    "        else:\n",
    "            print(\"Invalid Index,Try Valid Index\")\n",
    "    else:\n",
    "        print(\"No Item Found\\n\")\n",
    "\n",
    "menu={\n",
    "    1:\"Add Items\",\n",
    "    2:\"View Items\",\n",
    "    3:\"Delete Items\",\n",
    "    4:\"EXIT\"\n",
    "}\n",
    "\n",
    "taskDictionary={}\n",
    "    \n",
    "while (True):\n",
    "    userCommand=menuMenu(menu)\n",
    "    if isInteger(userCommand)==True:\n",
    "        userCommand=int(userCommand)\n",
    "        if userCommand > 0 and userCommand <=4:\n",
    "            print(\"Command Accepted\\n\")\n",
    "            if userCommand==1:\n",
    "                addTask(taskDictionary)\n",
    "            if userCommand==2:\n",
    "                viewTask(taskDictionary)\n",
    "            if userCommand==3:\n",
    "                deletingTask(taskDictionary)\n",
    "            if userCommand==4:\n",
    "                print(\"App Terminated\")\n",
    "                break\n",
    "        else:\n",
    "            print(\"Invalid Command,Try Valid Command\\n\")\n",
    "    else:\n",
    "        print(\"Invalid Command,Try Valid Command\\n\")"
   ]
  },
  {
   "cell_type": "code",
   "execution_count": null,
   "metadata": {},
   "outputs": [],
   "source": []
  }
 ],
 "metadata": {
  "kernelspec": {
   "display_name": "Python 3",
   "language": "python",
   "name": "python3"
  },
  "language_info": {
   "codemirror_mode": {
    "name": "ipython",
    "version": 3
   },
   "file_extension": ".py",
   "mimetype": "text/x-python",
   "name": "python",
   "nbconvert_exporter": "python",
   "pygments_lexer": "ipython3",
   "version": "3.7.4"
  }
 },
 "nbformat": 4,
 "nbformat_minor": 2
}
