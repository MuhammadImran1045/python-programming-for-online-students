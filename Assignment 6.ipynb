{
 "cells": [
  {
   "cell_type": "markdown",
   "metadata": {},
   "source": [
    "# Question no.1\n",
    "\n",
    "# Define Object Oriented Programming Language?\n",
    "\n",
    "Answer: OOP stands for Object-Oriented Programming.\n",
    "\n",
    "Procedural programming is about writing procedures or functions that perform operations on the data, while object-oriented programming is about creating objects that contain both data and functions.\n",
    "\n",
    "object-oriented programming is a programming language paradigm. In an object-oriented program, the code can be structured as reusable components, some of which may share properties or behaviors.\n",
    "\n",
    "Object-oriented programming can improve the developer's ability to quickly prototype software, extend existing functionality, refactor the code, and maintain it as it's developed."
   ]
  },
  {
   "cell_type": "markdown",
   "metadata": {},
   "source": [
    "# Question no. 2\n",
    "\n",
    "# List down the Benefits of OOP?\n",
    "\n",
    "Answer: Object-oriented programming has several advantages over procedural programming:\n",
    "\n",
    "(1). OOP is faster and easier to execute.\n",
    "\n",
    "(2). OOP provides a clear structure for the programs.\n",
    "\n",
    "(3). OOP helps to keep the code DRY \"Don't Repeat Yourself\", and makes the code      easier to maintain, modify and debug.\n",
    "\n",
    "(4). OOP makes it possible to create full reusable applications with less code      and shorter development time. "
   ]
  },
  {
   "cell_type": "markdown",
   "metadata": {},
   "source": [
    "# Question no. 3\n",
    "\n",
    "# Differentiate between function and method?\n",
    "\n",
    "Answer: \n",
    "\n",
    "# Medhod: \n",
    "\n",
    "(1). Method is called by its name, but it is associated to an object\n",
    "     (dependent)\n",
    "     \n",
    "(2). A method is implicitly passed the object on which it is invoked.\n",
    "\n",
    "(3). It may or may not return any data.\n",
    "\n",
    "(4). A method can operate on the data (instance variables) that is contained by      the corresponding class\n",
    "\n",
    "# Function:\n",
    "\n",
    "(1). Function is block of code that is also called by its name. (independent)\n",
    "\n",
    "(2). The function can have different parameters or may not have any at all. If      any data (parameters) are passed, they are passed explicitly.\n",
    "\n",
    "(3). It may or may not return any data.\n",
    "\n",
    "(4). Function does not deal with Class and its instance concept."
   ]
  },
  {
   "cell_type": "markdown",
   "metadata": {},
   "source": [
    "# Question no. 5\n",
    "\n",
    "# Define the following terms:\n",
    "# 1. Class\n",
    "# 2. Object\n",
    "# 3. Attribute\n",
    "# 4. Behavior\n",
    "\n",
    "Answer:\n",
    "\n",
    "# (1). Class: \n",
    "A class is a code template for creating objects. Objects have member variables and have behaviour associated with them. In python a class is created by the keyword class . An object is created using the constructor of the class. This object will then be called the instance of the class.\n",
    "\n",
    "# (2). Object:\n",
    "Python is an object oriented programming language. Unlike procedure oriented programming, where the main emphasis is on functions, object oriented programming stress on objects. Object is simply a collection of data (variables) and methods (functions) that act on those data. And, class is a blueprint for the object.\n",
    "\n",
    "# (3). Attribute:\n",
    "An instance attribute is a Python variable belonging to one, and only one, object. ... A class attribute is a Python variable that belongs to a class rather than a particular object. It is shared between all the objects of this class and it is defined outside the constructor function, __init__(self,...) , of the class.\n",
    "\n",
    "# (4). Behavior:\n",
    "Behavioral Programming (BP) is an approach and technique for software development, which enables incremental development in a natural way. A behavioral application consists of threads of behavior each of which represents an independent scenario that the system should and shouldn't follow."
   ]
  },
  {
   "cell_type": "code",
   "execution_count": null,
   "metadata": {},
   "outputs": [],
   "source": []
  },
  {
   "cell_type": "markdown",
   "metadata": {},
   "source": [
    "# QUestion no. 5"
   ]
  },
  {
   "cell_type": "code",
   "execution_count": 5,
   "metadata": {},
   "outputs": [
    {
     "name": "stdout",
     "output_type": "stream",
     "text": [
      "A8 Black 2006 march 20m/h Audi\n",
      "A10 Blue 2001 januvary 14m/h Audi\n",
      "A4 Red 2003 June 17m/h Audi\n",
      "A9 Brown 1999 Febuvary 11m/h Audi\n",
      "A7 White 2019 December 25m/h Audi\n",
      "********* UPDATING CAR *********\n",
      "\n",
      "\n",
      "Updating car 1- A8 orange 2006 march 20m/h Audi\n",
      "\n",
      "\n",
      "Updating car 3- A4 Red 2005 June 17m/h Audi\n",
      "\n",
      "\n",
      "Updating car 5- A7 White 2019 December 30m/h Audi\n"
     ]
    }
   ],
   "source": [
    "class car():\n",
    "    def __init__(self,name,color,model,month,speed):\n",
    "        self.name=name\n",
    "        self.color=color\n",
    "        self.model=model\n",
    "        self.month=month\n",
    "        self.speed=speed\n",
    "        self.company_name=\"Audi\"\n",
    "    \n",
    "    def updatecolor(self,newcolor):\n",
    "        self.color=newcolor\n",
    "        \n",
    "    def uptademodel(self,newmodel):\n",
    "        self.model=newmodel\n",
    "        \n",
    "    def updatespeed(self,newspeed):\n",
    "        self.speed=newspeed\n",
    "\n",
    "car1=car(\"A8\",\"Black\",\"2006\",\"march\",\"20m/h\")\n",
    "car1.company_name\n",
    "print(car1.name,car1.color,car1.model,car1.month,car1.speed,car1.company_name)\n",
    "\n",
    "car2=car(\"A10\",\"Blue\",\"2001\",\"januvary\",\"14m/h\")\n",
    "print(car2.name,car2.color,car2.model,car2.month,car2.speed,car1.company_name)\n",
    "\n",
    "car3=car(\"A4\",\"Red\",\"2003\",\"June\",\"17m/h\")\n",
    "print(car3.name,car3.color,car3.model,car3.month,car3.speed,car1.company_name)\n",
    "\n",
    "car4=car(\"A9\",\"Brown\",\"1999\",\"Febuvary\",\"11m/h\")\n",
    "print(car4.name,car4.color,car4.model,car4.month,car4.speed,car1.company_name)\n",
    "\n",
    "car5=car(\"A7\",\"White\",\"2019\",\"December\",\"25m/h\")\n",
    "print(car5.name,car5.color,car5.model,car5.month,car5.speed,car1.company_name)\n",
    "\n",
    "print(\"********* UPDATING CAR *********\")\n",
    "car1.updatecolor(\"orange\")\n",
    "print(\"\\n\")\n",
    "print(\"Updating car 1-\",car1.name,car1.color,car1.model,car1.month,car1.speed,car1.company_name)\n",
    "\n",
    "print(\"\\n\")\n",
    "car3.uptademodel(\"2005\")\n",
    "print(\"Updating car 3-\",car3.name,car3.color,car3.model,car3.month,car3.speed,car1.company_name)\n",
    "\n",
    "print(\"\\n\")\n",
    "car5.updatespeed(\"30m/h\")\n",
    "print(\"Updating car 5-\",car5.name,car5.color,car5.model,car5.month,car5.speed,car1.company_name)"
   ]
  },
  {
   "cell_type": "code",
   "execution_count": null,
   "metadata": {},
   "outputs": [],
   "source": []
  }
 ],
 "metadata": {
  "kernelspec": {
   "display_name": "Python 3",
   "language": "python",
   "name": "python3"
  },
  "language_info": {
   "codemirror_mode": {
    "name": "ipython",
    "version": 3
   },
   "file_extension": ".py",
   "mimetype": "text/x-python",
   "name": "python",
   "nbconvert_exporter": "python",
   "pygments_lexer": "ipython3",
   "version": "3.7.4"
  }
 },
 "nbformat": 4,
 "nbformat_minor": 2
}
