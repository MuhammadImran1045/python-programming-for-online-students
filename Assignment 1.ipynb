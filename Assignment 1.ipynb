{
 "cells": [
  {
   "cell_type": "code",
   "execution_count": 2,
   "metadata": {},
   "outputs": [
    {
     "name": "stdout",
     "output_type": "stream",
     "text": [
      " Twinkle, twinkle, little star,\n",
      "       How I wonder what you are!\n",
      "             Up above the world so high,\n",
      "             Like a diamond in the sky\n",
      " Twinkle, twinkle, little star,\n",
      "       How I wonder what you are!\n"
     ]
    }
   ],
   "source": [
    "print(\" Twinkle, twinkle, little star,\")\n",
    "print(\"       How I wonder what you are!\")\n",
    "print(\"             Up above the world so high,\")\n",
    "print (\"             Like a diamond in the sky\")\n",
    "print(\" Twinkle, twinkle, little star,\")\n",
    "print(\"       How I wonder what you are!\")\n",
    "\n"
   ]
  },
  {
   "cell_type": "code",
   "execution_count": 3,
   "metadata": {},
   "outputs": [
    {
     "name": "stdout",
     "output_type": "stream",
     "text": [
      "Phython Version\n",
      "3.7.4 (default, Aug  9 2019, 18:34:13) [MSC v.1915 64 bit (AMD64)]\n",
      "Phython Version Info\n",
      "sys.version_info(major=3, minor=7, micro=4, releaselevel='final', serial=0)\n"
     ]
    }
   ],
   "source": [
    "import sys\n",
    "print(\"Phython Version\")\n",
    "print(sys.version)\n",
    "print (\"Phython Version Info\")\n",
    "print(sys.version_info)\n",
    "\n"
   ]
  },
  {
   "cell_type": "code",
   "execution_count": 4,
   "metadata": {},
   "outputs": [
    {
     "name": "stdout",
     "output_type": "stream",
     "text": [
      "Current date and time : \n",
      "2019-11-04 12:06:55\n"
     ]
    }
   ],
   "source": [
    "import datetime\n",
    "now = datetime.datetime.now()\n",
    "print (\"Current date and time : \")\n",
    "print (now.strftime(\"%Y-%m-%d %H:%M:%S\"))\n"
   ]
  },
  {
   "cell_type": "code",
   "execution_count": 5,
   "metadata": {},
   "outputs": [
    {
     "name": "stdout",
     "output_type": "stream",
     "text": [
      "Enter Value of Radius=5\n",
      "********** AREA OF CIRCLE **********\n",
      "You Enter Value of Radius = 5.0\n",
      "Value of Area = 78.55\n"
     ]
    }
   ],
   "source": [
    "pi=3.142\n",
    "r=float(input(\"Enter Value of Radius=\"))\n",
    "A=pi*(r**2)\n",
    "print(\"********** AREA OF CIRCLE **********\")\n",
    "print(\"You Enter Value of Radius = \" + str(r))\n",
    "print(\"Value of Area =\",A)\n"
   ]
  },
  {
   "cell_type": "code",
   "execution_count": 6,
   "metadata": {},
   "outputs": [
    {
     "name": "stdout",
     "output_type": "stream",
     "text": [
      "Enter Your First Name : muhammad \n",
      "Enter Your Last Name : imran\n",
      " Name in Revrse Order : imran muhammad \n"
     ]
    }
   ],
   "source": [
    "first_name=input(\"Enter Your First Name : \")\n",
    "last_name=input(\"Enter Your Last Name : \")\n",
    "print(\" Name in Revrse Order : \"+ last_name + \" \" + first_name)\n",
    "\n"
   ]
  },
  {
   "cell_type": "code",
   "execution_count": 7,
   "metadata": {},
   "outputs": [
    {
     "name": "stdout",
     "output_type": "stream",
     "text": [
      "Enter Firts Number=2\n",
      "Enter Second Number=2\n",
      "********** ADDITION OF TWO INPUTS FROM USER **********\n",
      "You Enter Firts No.=  2\n",
      "You Enter Second No.=  2\n",
      "Your Addition of Two No. Result =  4\n"
     ]
    }
   ],
   "source": [
    "a=int(input(\"Enter Firts Number=\"))\n",
    "b=int(input(\"Enter Second Number=\"))\n",
    "c=a+b\n",
    "print(\"********** ADDITION OF TWO INPUTS FROM USER **********\")\n",
    "print(\"You Enter Firts No.= \",a)\n",
    "print(\"You Enter Second No.= \",b)\n",
    "print(\"Your Addition of Two No. Result = \",c)\n"
   ]
  },
  {
   "cell_type": "code",
   "execution_count": null,
   "metadata": {},
   "outputs": [],
   "source": []
  }
 ],
 "metadata": {
  "kernelspec": {
   "display_name": "Python 3",
   "language": "python",
   "name": "python3"
  },
  "language_info": {
   "codemirror_mode": {
    "name": "ipython",
    "version": 3
   },
   "file_extension": ".py",
   "mimetype": "text/x-python",
   "name": "python",
   "nbconvert_exporter": "python",
   "pygments_lexer": "ipython3",
   "version": "3.7.4"
  }
 },
 "nbformat": 4,
 "nbformat_minor": 2
}
